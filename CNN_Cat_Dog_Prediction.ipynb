{
 "cells": [
  {
   "cell_type": "code",
   "execution_count": 1,
   "id": "639a6e73",
   "metadata": {},
   "outputs": [],
   "source": [
    "# pip install tensorflow\n"
   ]
  },
  {
   "cell_type": "code",
   "execution_count": 2,
   "id": "ce0f2c88",
   "metadata": {},
   "outputs": [],
   "source": [
    "import tensorflow as tf\n",
    "from keras.preprocessing.image import ImageDataGenerator"
   ]
  },
  {
   "cell_type": "code",
   "execution_count": 3,
   "id": "a078a31a",
   "metadata": {},
   "outputs": [
    {
     "data": {
      "text/plain": [
       "'2.9.1'"
      ]
     },
     "execution_count": 3,
     "metadata": {},
     "output_type": "execute_result"
    }
   ],
   "source": [
    "tf.__version__"
   ]
  },
  {
   "cell_type": "code",
   "execution_count": 5,
   "id": "2a5eab68",
   "metadata": {},
   "outputs": [
    {
     "name": "stdout",
     "output_type": "stream",
     "text": [
      "Found 8000 images belonging to 2 classes.\n"
     ]
    }
   ],
   "source": [
    "train_datagen = ImageDataGenerator(rescale = 1./255,\n",
    "                                   shear_range = 0.2,\n",
    "                                   zoom_range = 0.2,\n",
    "                                   horizontal_flip = True)\n",
    "training_set = train_datagen.flow_from_directory('C:/Users/yogra/Desktop/DLNLP/CNN Dataset/training_set',\n",
    "                                                 target_size = (64, 64),\n",
    "                                                 batch_size = 32,\n",
    "                                                 class_mode = 'binary')"
   ]
  },
  {
   "cell_type": "markdown",
   "id": "50ac068f",
   "metadata": {},
   "source": [
    "### Preprocessing Test Data"
   ]
  },
  {
   "cell_type": "code",
   "execution_count": 6,
   "id": "7fe25de0",
   "metadata": {},
   "outputs": [
    {
     "name": "stdout",
     "output_type": "stream",
     "text": [
      "Found 2000 images belonging to 2 classes.\n"
     ]
    }
   ],
   "source": [
    "test_datagen = ImageDataGenerator(rescale = 1./255)\n",
    "test_set = test_datagen.flow_from_directory('C:/Users/yogra/Desktop/DLNLP/CNN Dataset/test_set',\n",
    "                                            target_size = (64, 64),\n",
    "                                            batch_size = 32,\n",
    "                                            class_mode = 'binary')"
   ]
  },
  {
   "cell_type": "markdown",
   "id": "5e43f235",
   "metadata": {},
   "source": [
    "# Part 2 - Building the CNN\n",
    "## Initialising the CNN"
   ]
  },
  {
   "cell_type": "code",
   "execution_count": 7,
   "id": "37513cd4",
   "metadata": {},
   "outputs": [],
   "source": [
    "cnn = tf.keras.models.Sequential()"
   ]
  },
  {
   "cell_type": "markdown",
   "id": "9b5c0670",
   "metadata": {},
   "source": [
    "### Step 1 - Convolution"
   ]
  },
  {
   "cell_type": "code",
   "execution_count": 8,
   "id": "1912f891",
   "metadata": {},
   "outputs": [],
   "source": [
    "cnn.add(tf.keras.layers.Conv2D(filters=32, kernel_size=3, activation='relu', input_shape=[64, 64, 3]))"
   ]
  },
  {
   "cell_type": "markdown",
   "id": "57e94f54",
   "metadata": {},
   "source": [
    "### Step 2 - Pooling"
   ]
  },
  {
   "cell_type": "code",
   "execution_count": 9,
   "id": "82e83298",
   "metadata": {},
   "outputs": [],
   "source": [
    "cnn.add(tf.keras.layers.MaxPool2D(pool_size=2, strides=2))"
   ]
  },
  {
   "cell_type": "markdown",
   "id": "af20aec2",
   "metadata": {},
   "source": [
    "### Adding second convolutional layer "
   ]
  },
  {
   "cell_type": "code",
   "execution_count": 10,
   "id": "5d49c895",
   "metadata": {},
   "outputs": [],
   "source": [
    "cnn.add(tf.keras.layers.Conv2D(filters=32, kernel_size=3, activation='relu'))\n",
    "cnn.add(tf.keras.layers.MaxPool2D(pool_size=2, strides=2))"
   ]
  },
  {
   "cell_type": "markdown",
   "id": "a4cc8292",
   "metadata": {},
   "source": [
    "### Step 3 - Flattening "
   ]
  },
  {
   "cell_type": "code",
   "execution_count": 11,
   "id": "d855b169",
   "metadata": {},
   "outputs": [],
   "source": [
    "cnn.add(tf.keras.layers.Flatten())"
   ]
  },
  {
   "cell_type": "markdown",
   "id": "5bcb7591",
   "metadata": {},
   "source": [
    "### Step 4 - Full Connection "
   ]
  },
  {
   "cell_type": "code",
   "execution_count": 12,
   "id": "ff4c2653",
   "metadata": {},
   "outputs": [],
   "source": [
    "cnn.add(tf.keras.layers.Dense(units=128, activation='relu'))"
   ]
  },
  {
   "cell_type": "markdown",
   "id": "3afa0d8c",
   "metadata": {},
   "source": [
    "### Step 5 - Output Layer "
   ]
  },
  {
   "cell_type": "code",
   "execution_count": 13,
   "id": "27d93b20",
   "metadata": {},
   "outputs": [],
   "source": [
    "cnn.add(tf.keras.layers.Dense(units=1, activation='sigmoid'))"
   ]
  },
  {
   "cell_type": "markdown",
   "id": "919f425b",
   "metadata": {},
   "source": [
    "# Part 3 - Training the CNN\n",
    "### Compiling the CNN"
   ]
  },
  {
   "cell_type": "code",
   "execution_count": 14,
   "id": "4e655d82",
   "metadata": {},
   "outputs": [],
   "source": [
    "cnn.compile(optimizer = 'adam', loss = 'binary_crossentropy', metrics = ['accuracy'])"
   ]
  },
  {
   "cell_type": "markdown",
   "id": "f3e5b3a1",
   "metadata": {},
   "source": [
    "### Training the CNN on the Training set and evaluating it on the Test set "
   ]
  },
  {
   "cell_type": "code",
   "execution_count": 15,
   "id": "08cd6254",
   "metadata": {},
   "outputs": [
    {
     "name": "stdout",
     "output_type": "stream",
     "text": [
      "Epoch 1/25\n",
      "250/250 [==============================] - 85s 335ms/step - loss: 0.6589 - accuracy: 0.6018 - val_loss: 0.6005 - val_accuracy: 0.6820\n",
      "Epoch 2/25\n",
      "250/250 [==============================] - 38s 152ms/step - loss: 0.5972 - accuracy: 0.6774 - val_loss: 0.5858 - val_accuracy: 0.6935\n",
      "Epoch 3/25\n",
      "250/250 [==============================] - 39s 155ms/step - loss: 0.5638 - accuracy: 0.7088 - val_loss: 0.5381 - val_accuracy: 0.7415\n",
      "Epoch 4/25\n",
      "250/250 [==============================] - 40s 160ms/step - loss: 0.5370 - accuracy: 0.7312 - val_loss: 0.5179 - val_accuracy: 0.7510\n",
      "Epoch 5/25\n",
      "250/250 [==============================] - 40s 159ms/step - loss: 0.5072 - accuracy: 0.7506 - val_loss: 0.4936 - val_accuracy: 0.7720\n",
      "Epoch 6/25\n",
      "250/250 [==============================] - 40s 161ms/step - loss: 0.4937 - accuracy: 0.7630 - val_loss: 0.4814 - val_accuracy: 0.7700\n",
      "Epoch 7/25\n",
      "250/250 [==============================] - 38s 151ms/step - loss: 0.4775 - accuracy: 0.7701 - val_loss: 0.5428 - val_accuracy: 0.7480\n",
      "Epoch 8/25\n",
      "250/250 [==============================] - 38s 153ms/step - loss: 0.4676 - accuracy: 0.7715 - val_loss: 0.4940 - val_accuracy: 0.7690\n",
      "Epoch 9/25\n",
      "250/250 [==============================] - 38s 151ms/step - loss: 0.4488 - accuracy: 0.7875 - val_loss: 0.5036 - val_accuracy: 0.7680\n",
      "Epoch 10/25\n",
      "250/250 [==============================] - 38s 153ms/step - loss: 0.4407 - accuracy: 0.7937 - val_loss: 0.4752 - val_accuracy: 0.7765\n",
      "Epoch 11/25\n",
      "250/250 [==============================] - 39s 154ms/step - loss: 0.4272 - accuracy: 0.7983 - val_loss: 0.4562 - val_accuracy: 0.7955\n",
      "Epoch 12/25\n",
      "250/250 [==============================] - 38s 152ms/step - loss: 0.4152 - accuracy: 0.8060 - val_loss: 0.4540 - val_accuracy: 0.7965\n",
      "Epoch 13/25\n",
      "250/250 [==============================] - 38s 152ms/step - loss: 0.4048 - accuracy: 0.8117 - val_loss: 0.4774 - val_accuracy: 0.7925\n",
      "Epoch 14/25\n",
      "250/250 [==============================] - 38s 152ms/step - loss: 0.3938 - accuracy: 0.8167 - val_loss: 0.4868 - val_accuracy: 0.7880\n",
      "Epoch 15/25\n",
      "250/250 [==============================] - 39s 155ms/step - loss: 0.3869 - accuracy: 0.8229 - val_loss: 0.4395 - val_accuracy: 0.8060\n",
      "Epoch 16/25\n",
      "250/250 [==============================] - 39s 154ms/step - loss: 0.3800 - accuracy: 0.8300 - val_loss: 0.5231 - val_accuracy: 0.7750\n",
      "Epoch 17/25\n",
      "250/250 [==============================] - 38s 152ms/step - loss: 0.3729 - accuracy: 0.8310 - val_loss: 0.4482 - val_accuracy: 0.8105\n",
      "Epoch 18/25\n",
      "250/250 [==============================] - 39s 154ms/step - loss: 0.3608 - accuracy: 0.8380 - val_loss: 0.4636 - val_accuracy: 0.7985\n",
      "Epoch 19/25\n",
      "250/250 [==============================] - 38s 153ms/step - loss: 0.3463 - accuracy: 0.8460 - val_loss: 0.4565 - val_accuracy: 0.8055\n",
      "Epoch 20/25\n",
      "250/250 [==============================] - 38s 151ms/step - loss: 0.3402 - accuracy: 0.8512 - val_loss: 0.4647 - val_accuracy: 0.8105\n",
      "Epoch 21/25\n",
      "250/250 [==============================] - 37s 150ms/step - loss: 0.3326 - accuracy: 0.8536 - val_loss: 0.5143 - val_accuracy: 0.7960\n",
      "Epoch 22/25\n",
      "250/250 [==============================] - 39s 155ms/step - loss: 0.3356 - accuracy: 0.8475 - val_loss: 0.4423 - val_accuracy: 0.8120\n",
      "Epoch 23/25\n",
      "250/250 [==============================] - 38s 151ms/step - loss: 0.3247 - accuracy: 0.8627 - val_loss: 0.4563 - val_accuracy: 0.8020\n",
      "Epoch 24/25\n",
      "250/250 [==============================] - 42s 166ms/step - loss: 0.3160 - accuracy: 0.8604 - val_loss: 0.4740 - val_accuracy: 0.8105\n",
      "Epoch 25/25\n",
      "250/250 [==============================] - 40s 160ms/step - loss: 0.3066 - accuracy: 0.8676 - val_loss: 0.5446 - val_accuracy: 0.7850\n"
     ]
    },
    {
     "data": {
      "text/plain": [
       "<keras.callbacks.History at 0x1d87c367040>"
      ]
     },
     "execution_count": 15,
     "metadata": {},
     "output_type": "execute_result"
    }
   ],
   "source": [
    "cnn.fit(x = training_set, validation_data = test_set, epochs = 25)"
   ]
  },
  {
   "cell_type": "markdown",
   "id": "3be499dd",
   "metadata": {},
   "source": [
    "# Part 4 - Making a single prediction"
   ]
  },
  {
   "cell_type": "code",
   "execution_count": 18,
   "id": "aedcef8e",
   "metadata": {},
   "outputs": [
    {
     "name": "stdout",
     "output_type": "stream",
     "text": [
      "1/1 [==============================] - 0s 86ms/step\n"
     ]
    }
   ],
   "source": [
    "import numpy as np\n",
    "from tensorflow.keras.preprocessing import image\n",
    "test_image = image.load_img('C:/Users/yogra/Desktop/DLNLP/CNN Dataset/single_prediction/cat_or_dog_2.jpg', target_size = (64, 64))\n",
    "test_image = image.img_to_array(test_image)\n",
    "test_image = np.expand_dims(test_image, axis = 0)\n",
    "result = cnn.predict(test_image)\n",
    "training_set.class_indices\n",
    "if result[0][0] == 1:\n",
    "  prediction = 'dog'\n",
    "else:\n",
    "  prediction = 'cat'"
   ]
  },
  {
   "cell_type": "code",
   "execution_count": 19,
   "id": "33e65c86",
   "metadata": {},
   "outputs": [
    {
     "name": "stdout",
     "output_type": "stream",
     "text": [
      "cat\n"
     ]
    }
   ],
   "source": [
    "print(prediction)"
   ]
  },
  {
   "cell_type": "code",
   "execution_count": null,
   "id": "37aaa264",
   "metadata": {},
   "outputs": [],
   "source": []
  }
 ],
 "metadata": {
  "kernelspec": {
   "display_name": "Python 3 (ipykernel)",
   "language": "python",
   "name": "python3"
  },
  "language_info": {
   "codemirror_mode": {
    "name": "ipython",
    "version": 3
   },
   "file_extension": ".py",
   "mimetype": "text/x-python",
   "name": "python",
   "nbconvert_exporter": "python",
   "pygments_lexer": "ipython3",
   "version": "3.9.7"
  }
 },
 "nbformat": 4,
 "nbformat_minor": 5
}
